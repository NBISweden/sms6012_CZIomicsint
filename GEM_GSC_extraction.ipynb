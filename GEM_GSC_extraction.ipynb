{
 "cells": [
  {
   "cell_type": "markdown",
   "metadata": {},
   "source": [
    "# Extraction of gene set collections from Human-GEM\n",
    "\n",
    "This notebook demonstrates the process of extracting gene-metabolite and gene-subsystem associations from Human-GEM, and exporting them to a `.gmt` file (a common file format for gene set collections).\n",
    "\n",
    "Note that it is not required that you run this notebook, since the resulting files `HumanGEM_metabolite_GSC.gmt` and `HumanGEM_subsystem_GSC.gmt` already exist in the `data/gene_set_collections/` subdirectory of this session (these files are needed for the next exercise in R). However, we have provided the code here so it is clear how one would generate such files from a GEM if necessary.\n"
   ]
  },
  {
   "cell_type": "code",
   "execution_count": null,
   "metadata": {},
   "outputs": [],
   "source": [
    "import cobra\n",
    "import os\n",
    "import numpy as np"
   ]
  },
  {
   "cell_type": "code",
   "execution_count": null,
   "metadata": {},
   "outputs": [],
   "source": [
    "# load Human-GEM model (note: may take 2-3 minutes to load, since it is a pretty large model)\n",
    "model = cobra.io.load_yaml_model(os.path.join('data', 'models', 'Human-GEM.yml'))"
   ]
  },
  {
   "cell_type": "markdown",
   "metadata": {},
   "source": [
    "## Subsystem-gene associations\n",
    "\n",
    "First we will extract the subsystem-gene associations. Each reaction is assigned to a subsystem (only one subsystem per reaction in the case of Human-GEM - this is not always the case), so we first find all the reactions within a subsystem, and then extract the genes associated with each of those reactions."
   ]
  },
  {
   "cell_type": "code",
   "execution_count": null,
   "metadata": {},
   "outputs": [],
   "source": [
    "# retrieve gene associations for all subsystems\n",
    "subsystems = np.unique([x.subsystem for x in model.reactions])\n",
    "gene_assoc = []\n",
    "for s in subsystems:\n",
    "    genes = [set(x.genes) for x in model.reactions if s in x.subsystem]\n",
    "    genes = list(set.union(*genes))\n",
    "    gene_assoc.append(sorted([x.id for x in genes]))  # sort for consistency"
   ]
  },
  {
   "cell_type": "code",
   "execution_count": null,
   "metadata": {},
   "outputs": [],
   "source": [
    "# remove subsystems with no gene associations\n",
    "subsystems = [x for i,x in enumerate(subsystems) if len(gene_assoc[i]) > 0]\n",
    "gene_assoc = [x for x in gene_assoc if len(x) > 0]"
   ]
  },
  {
   "cell_type": "code",
   "execution_count": null,
   "metadata": {},
   "outputs": [],
   "source": [
    "# write subsystem-gene associations to .gmt file\n",
    "# Note that the second column in a .gmt file is a description field that we are not using ('NA').\n",
    "merged_list = ['\\t'.join([subsystems[i]] + ['na'] + gene_assoc[i]) + '\\n' for i in range(len(subsystems))]\n",
    "with open(os.path.join('data', 'gene_set_collections', 'HumanGEM_subsystem_GSC.gmt'), 'w') as f:\n",
    "    f.writelines(merged_list)"
   ]
  },
  {
   "cell_type": "markdown",
   "metadata": {},
   "source": [
    "## Metabolite-gene associations\n",
    "\n",
    "Next are the metabolite-gene associations. This can be done in one of two ways, since GEMs treat metabolites as different if they are in different compartments, even if they are chemically identical. For example, `ATP_c` and `ATP_m` are both adenosine triphosphate, but one metabolite represents ATP in the cytoplasm, and the other represents ATP in the mitochondria.\n",
    "\n",
    "One can therefore include the compartment information in the metabolite-gene associations, such that `ATP_c` and `ATP_m` will be separate gene sets. However, since many of these metabolites participate in similar reactions (encoded by the same genes) and/or because metabolite gene sets can already be quite small, it is often recommended that the compartment is ignored, and all compartment forms of a metabolite are merged together."
   ]
  },
  {
   "cell_type": "markdown",
   "metadata": {},
   "source": [
    "### Option 1: Excluding compartment (recommended)\n",
    "Metabolites that have the same name but different cellular location (compartment) will be merged"
   ]
  },
  {
   "cell_type": "code",
   "execution_count": null,
   "metadata": {},
   "outputs": [],
   "source": [
    "# ignore compartments\n",
    "metabolites = np.unique([x.name for x in model.metabolites])"
   ]
  },
  {
   "cell_type": "code",
   "execution_count": null,
   "metadata": {},
   "outputs": [],
   "source": [
    "# retrieve gene associations for all metabolites\n",
    "gene_assoc = []\n",
    "for met_name in metabolites:\n",
    "    reactions = [set(m.reactions) for m in model.metabolites if m.name == met_name]\n",
    "    reactions = list(set.union(*reactions))\n",
    "    genes = [set(r.genes) for r in reactions]\n",
    "    genes = list(set.union(*genes))\n",
    "    gene_assoc.append(sorted([x.id for x in genes]))"
   ]
  },
  {
   "cell_type": "markdown",
   "metadata": {},
   "source": [
    "### Option 2: Including compartment\n",
    "Metabolites with identical name but different cellular location (compartment) will be treated as different metabolites"
   ]
  },
  {
   "cell_type": "code",
   "execution_count": null,
   "metadata": {},
   "outputs": [],
   "source": [
    "# combine metabolite names with their compartment abbreviation\n",
    "metabolites = [x.name + '[' + x.compartment + ']' for x in model.metabolites]"
   ]
  },
  {
   "cell_type": "code",
   "execution_count": null,
   "metadata": {},
   "outputs": [],
   "source": [
    "# retrieve gene associations for all metabolites\n",
    "gene_assoc = []\n",
    "for m in model.metabolites:\n",
    "    genes = [set(r.genes) for r in list(m.reactions)]\n",
    "    genes = list(set.union(*genes))\n",
    "    gene_assoc.append(sorted([x.id for x in genes]))"
   ]
  },
  {
   "cell_type": "markdown",
   "metadata": {},
   "source": [
    "### Process and write to file"
   ]
  },
  {
   "cell_type": "code",
   "execution_count": null,
   "metadata": {},
   "outputs": [],
   "source": [
    "# remove metabolites with no gene associations\n",
    "metabolites = [x for i,x in enumerate(metabolites) if len(gene_assoc[i]) > 0]\n",
    "gene_assoc = [x for x in gene_assoc if len(x) > 0]"
   ]
  },
  {
   "cell_type": "code",
   "execution_count": null,
   "metadata": {},
   "outputs": [],
   "source": [
    "# some metabolites contain an apostrophe, which can disrupt parsing by some packages\n",
    "metabolites = [x.replace(\"'\", \"\") for x in metabolites]"
   ]
  },
  {
   "cell_type": "code",
   "execution_count": null,
   "metadata": {},
   "outputs": [],
   "source": [
    "# write metabolite-gene associations to .gmt file\n",
    "# Note that the second column in a .gmt file is a description field that we are not using ('NA').\n",
    "merged_list = ['\\t'.join([metabolites[i]] + ['na'] + gene_assoc[i]) + '\\n' for i in range(len(metabolites))]\n",
    "with open(os.path.join('data', 'gene_set_collections', 'HumanGEM_metabolite_GSC.gmt'), 'w') as f:\n",
    "    f.writelines(merged_list)"
   ]
  },
  {
   "cell_type": "code",
   "execution_count": null,
   "metadata": {},
   "outputs": [],
   "source": []
  }
 ],
 "metadata": {
  "kernelspec": {
   "display_name": "Python 3",
   "language": "python",
   "name": "python3"
  },
  "language_info": {
   "codemirror_mode": {
    "name": "ipython",
    "version": 3
   },
   "file_extension": ".py",
   "mimetype": "text/x-python",
   "name": "python",
   "nbconvert_exporter": "python",
   "pygments_lexer": "ipython3",
   "version": "3.8.5"
  }
 },
 "nbformat": 4,
 "nbformat_minor": 4
}
